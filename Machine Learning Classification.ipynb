{
 "cells": [
  {
   "cell_type": "code",
   "execution_count": 1,
   "id": "bbb05189-529c-406e-b2ea-8512306898c1",
   "metadata": {
    "scrolled": true
   },
   "outputs": [
    {
     "data": {
      "text/html": [
       "<div>\n",
       "<style scoped>\n",
       "    .dataframe tbody tr th:only-of-type {\n",
       "        vertical-align: middle;\n",
       "    }\n",
       "\n",
       "    .dataframe tbody tr th {\n",
       "        vertical-align: top;\n",
       "    }\n",
       "\n",
       "    .dataframe thead th {\n",
       "        text-align: right;\n",
       "    }\n",
       "</style>\n",
       "<table border=\"1\" class=\"dataframe\">\n",
       "  <thead>\n",
       "    <tr style=\"text-align: right;\">\n",
       "      <th></th>\n",
       "      <th>kill</th>\n",
       "      <th>assist</th>\n",
       "      <th>death</th>\n",
       "      <th>turret</th>\n",
       "      <th>role</th>\n",
       "    </tr>\n",
       "  </thead>\n",
       "  <tbody>\n",
       "    <tr>\n",
       "      <th>0</th>\n",
       "      <td>10</td>\n",
       "      <td>2</td>\n",
       "      <td>3</td>\n",
       "      <td>2</td>\n",
       "      <td>penyerang</td>\n",
       "    </tr>\n",
       "    <tr>\n",
       "      <th>1</th>\n",
       "      <td>3</td>\n",
       "      <td>9</td>\n",
       "      <td>5</td>\n",
       "      <td>0</td>\n",
       "      <td>bertahan</td>\n",
       "    </tr>\n",
       "    <tr>\n",
       "      <th>2</th>\n",
       "      <td>8</td>\n",
       "      <td>4</td>\n",
       "      <td>2</td>\n",
       "      <td>1</td>\n",
       "      <td>penyerang</td>\n",
       "    </tr>\n",
       "    <tr>\n",
       "      <th>3</th>\n",
       "      <td>2</td>\n",
       "      <td>11</td>\n",
       "      <td>6</td>\n",
       "      <td>0</td>\n",
       "      <td>bertahan</td>\n",
       "    </tr>\n",
       "    <tr>\n",
       "      <th>4</th>\n",
       "      <td>12</td>\n",
       "      <td>3</td>\n",
       "      <td>2</td>\n",
       "      <td>3</td>\n",
       "      <td>penyerang</td>\n",
       "    </tr>\n",
       "    <tr>\n",
       "      <th>5</th>\n",
       "      <td>4</td>\n",
       "      <td>10</td>\n",
       "      <td>7</td>\n",
       "      <td>0</td>\n",
       "      <td>bertahan</td>\n",
       "    </tr>\n",
       "    <tr>\n",
       "      <th>6</th>\n",
       "      <td>9</td>\n",
       "      <td>5</td>\n",
       "      <td>2</td>\n",
       "      <td>2</td>\n",
       "      <td>penyerang</td>\n",
       "    </tr>\n",
       "    <tr>\n",
       "      <th>7</th>\n",
       "      <td>1</td>\n",
       "      <td>13</td>\n",
       "      <td>6</td>\n",
       "      <td>0</td>\n",
       "      <td>bertahan</td>\n",
       "    </tr>\n",
       "    <tr>\n",
       "      <th>8</th>\n",
       "      <td>11</td>\n",
       "      <td>4</td>\n",
       "      <td>3</td>\n",
       "      <td>2</td>\n",
       "      <td>penyerang</td>\n",
       "    </tr>\n",
       "    <tr>\n",
       "      <th>9</th>\n",
       "      <td>2</td>\n",
       "      <td>12</td>\n",
       "      <td>5</td>\n",
       "      <td>0</td>\n",
       "      <td>bertahan</td>\n",
       "    </tr>\n",
       "  </tbody>\n",
       "</table>\n",
       "</div>"
      ],
      "text/plain": [
       "   kill  assist  death  turret       role\n",
       "0    10       2      3       2  penyerang\n",
       "1     3       9      5       0   bertahan\n",
       "2     8       4      2       1  penyerang\n",
       "3     2      11      6       0   bertahan\n",
       "4    12       3      2       3  penyerang\n",
       "5     4      10      7       0   bertahan\n",
       "6     9       5      2       2  penyerang\n",
       "7     1      13      6       0   bertahan\n",
       "8    11       4      3       2  penyerang\n",
       "9     2      12      5       0   bertahan"
      ]
     },
     "execution_count": 1,
     "metadata": {},
     "output_type": "execute_result"
    }
   ],
   "source": [
    "#panggil library pandas\n",
    "import pandas as pd\n",
    "\n",
    "#baca dataset\n",
    "df=pd.read_csv(\"dataset.csv\")\n",
    "\n",
    "#tampilkan dataframe\n",
    "df"
   ]
  },
  {
   "cell_type": "code",
   "execution_count": 3,
   "id": "57630d2a-4e80-4072-bba0-ac98ecfdcbeb",
   "metadata": {},
   "outputs": [
    {
     "name": "stdout",
     "output_type": "stream",
     "text": [
      "<class 'pandas.core.frame.DataFrame'>\n",
      "RangeIndex: 10 entries, 0 to 9\n",
      "Data columns (total 5 columns):\n",
      " #   Column  Non-Null Count  Dtype \n",
      "---  ------  --------------  ----- \n",
      " 0   kill    10 non-null     int64 \n",
      " 1   assist  10 non-null     int64 \n",
      " 2   death   10 non-null     int64 \n",
      " 3   turret  10 non-null     int64 \n",
      " 4   role    10 non-null     object\n",
      "dtypes: int64(4), object(1)\n",
      "memory usage: 532.0+ bytes\n",
      "None\n",
      "            kill     assist      death     turret\n",
      "count  10.000000  10.000000  10.000000  10.000000\n",
      "mean    6.200000   7.300000   4.100000   1.000000\n",
      "std     4.211096   4.110961   1.911951   1.154701\n",
      "min     1.000000   2.000000   2.000000   0.000000\n",
      "25%     2.250000   4.000000   2.250000   0.000000\n",
      "50%     6.000000   7.000000   4.000000   0.500000\n",
      "75%     9.750000  10.750000   5.750000   2.000000\n",
      "max    12.000000  13.000000   7.000000   3.000000\n",
      "kill      0\n",
      "assist    0\n",
      "death     0\n",
      "turret    0\n",
      "role      0\n",
      "dtype: int64\n",
      "role\n",
      "penyerang    5\n",
      "bertahan     5\n",
      "Name: count, dtype: int64\n"
     ]
    }
   ],
   "source": [
    "#menampilkan 5 data teratas\n",
    "df.head()\n",
    "\n",
    "#menampilkan 5 data terbawah \n",
    "df.tail()\n",
    "\n",
    "#melihat struktur data(kolom,tipe,jumlah baris,memori)\n",
    "print(df.info())\n",
    "\n",
    "#melihat statistik ringkas untuk kolom numeric (min, max, mean, dll)\n",
    "print(df.describe())\n",
    "\n",
    "#mengecek apakah ada data yang kosong \n",
    "print(df.isnull().sum())\n",
    "\n",
    "#mengecek jumlah data per role\n",
    "print(df[\"role\"].value_counts())"
   ]
  },
  {
   "cell_type": "code",
   "execution_count": 6,
   "id": "0bbaa271-01d3-4909-971c-9c908ba57299",
   "metadata": {},
   "outputs": [
    {
     "data": {
      "image/png": "[encoded data removed]",
      "text/plain": [
       "<Figure size 600x500 with 1 Axes>"
      ]
     },
     "metadata": {},
     "output_type": "display_data"
    }
   ],
   "source": [
    "#import library matplotlib \n",
    "import matplotlib.pyplot as plt\n",
    "\n",
    "#pisahkan data berdasarkan role penyerang dan bertahan\n",
    "penyerang=df[df[\"role\"]==\"penyerang\"]\n",
    "bertahan=df[df[\"role\"]==\"bertahan\"]\n",
    "\n",
    "#buat canvas dengan ukuran 6x5 inch\n",
    "plt.figure(figsize=(6,5))\n",
    "\n",
    "#scatter plot untuk penyerang (merah titik besar,agak transparan)\n",
    "plt.scatter(penyerang[\"kill\"],penyerang[\"assist\"], color=\"red\", s=100, alpha=0.7, label=\"penyerang\")\n",
    "\n",
    "#scatter plot untuk bertahan (biru, titik besar, agak transparan)\n",
    "plt.scatter(bertahan[\"kill\"], bertahan[\"assist\"], color=\"blue\", s=100, alpha=0.7, label=\"bertahan\")\n",
    "\n",
    "#label untuk sumbu X\n",
    "plt.xlabel(\"kill\")\n",
    "\n",
    "#label untuk sumbu y\n",
    "plt.ylabel(\"assist\")\n",
    "\n",
    "#judul grafik\n",
    "plt.title(\"MLBB style kill vs assist\")\n",
    "\n",
    "#tampilkan kotak keterangan warna (penyerang/bertahan)\n",
    "plt.legend()\n",
    "\n",
    "#tampilkan grid putus-putus tipis tipis\n",
    "plt.grid(True,linestyle=\"--\",alpha=0.5)\n",
    "\n",
    "#tampilkan grafik ke layar\n",
    "plt.show()"
   ]
  },
  {
   "cell_type": "code",
   "execution_count": 7,
   "id": "62bd6ccf-d001-456f-b45d-1af5fd42e852",
   "metadata": {},
   "outputs": [
    {
     "name": "stdout",
     "output_type": "stream",
     "text": [
      "Accuracy : 1.0\n"
     ]
    }
   ],
   "source": [
    "# import Logistic Regression dari library Scikit-Learn\n",
    "from sklearn.linear_model import LogisticRegression\n",
    "\n",
    "# import fungsi train_test_split untuk membagi data menjadi data latih dan data uji\n",
    "from sklearn.model_selection import train_test_split\n",
    "\n",
    "# import accuracy_score untuk mengukur akurasi model (berapa prediksi benar dibanding totalnya)\n",
    "from sklearn.metrics import accuracy_score\n",
    "\n",
    "# pilih features yang akan digunakan\n",
    "X = df[[\"kill\",\"assist\",\"death\",\"turret\"]]\n",
    "\n",
    "# pilih target yang ingin diprediksi (penyerang/bertahan)\n",
    "y = df[\"role\"]\n",
    "\n",
    "# bagi dataset menjadi data latih 80%, data uji 20%, dengan random_state 42 agar hasil selalu sama\n",
    "X_train, X_test, y_train, y_test = train_test_split(X, y, test_size=0.2, random_state=42)\n",
    "\n",
    "# buat objek model Logistic Regression\n",
    "model = LogisticRegression()\n",
    "\n",
    "# latih model menggunakan data latih X_train dan y_train\n",
    "model.fit(X_train, y_train)\n",
    "\n",
    "# gunakan model yang sudah dilatih untuk memprediksi role di data uji X_test\n",
    "y_pred = model.predict(X_test)\n",
    "\n",
    "# cetak nilai akurasi, yaitu seberapa sering prediksi sama dengan data asli\n",
    "print(\"Accuracy :\", accuracy_score(y_test, y_pred))\n"
   ]
  },
  {
   "cell_type": "code",
   "execution_count": 9,
   "id": "3dc9b775-afa2-4c7b-9096-0346c41568f7",
   "metadata": {},
   "outputs": [
    {
     "data": {
      "text/plain": [
       "array(['penyerang'], dtype=object)"
      ]
     },
     "execution_count": 9,
     "metadata": {},
     "output_type": "execute_result"
    }
   ],
   "source": [
    "data_lain = pd.DataFrame([[11,8,2,2]], columns=[\"kill\",\"assist\",\"death\",\"turret\"])\n",
    "model.predict(data_lain)"
   ]
  },
  {
   "cell_type": "code",
   "execution_count": 10,
   "id": "c61f11af-3b8a-42dc-82ca-d0fc90021712",
   "metadata": {},
   "outputs": [
    {
     "data": {
      "text/plain": [
       "['mlbb_model.joblib']"
      ]
     },
     "execution_count": 10,
     "metadata": {},
     "output_type": "execute_result"
    }
   ],
   "source": [
    "# panggil library joblib\n",
    "import joblib\n",
    "\n",
    "# simpan model ke dalam format .joblib dengan nama “mlbb_model”\n",
    "joblib.dump(model, \"mlbb_model.joblib\")"
   ]
  },
  {
   "cell_type": "code",
   "execution_count": 11,
   "id": "ccad02ed-4be9-47f7-98ce-63da6f59ea8f",
   "metadata": {},
   "outputs": [
    {
     "data": {
      "text/plain": [
       "array(['bertahan'], dtype=object)"
      ]
     },
     "execution_count": 11,
     "metadata": {},
     "output_type": "execute_result"
    }
   ],
   "source": [
    "# panggil library joblib\n",
    "import joblib\n",
    "\n",
    "# panggil library pandas untuk menyiapkan data uji\n",
    "import pandas as pd\n",
    "\n",
    "# load model yang sudah tersimpan\n",
    "loaded_model = joblib.load(\"mlbb_model.joblib\")\n",
    "\n",
    "# siapkan data baru untuk prediksi\n",
    "data_baru = pd.DataFrame([[3,9,5,1]], columns=[\"kill\",\"assist\",\"death\",\"turret\"])\n",
    "\n",
    "# lakukan proses prediksi\n",
    "loaded_model.predict(data_baru)"
   ]
  }
 ],
 "metadata": {
  "kernelspec": {
   "display_name": "Python 3 (ipykernel)",
   "language": "python",
   "name": "python3"
  },
  "language_info": {
   "codemirror_mode": {
    "name": "ipython",
    "version": 3
   },
   "file_extension": ".py",
   "mimetype": "text/x-python",
   "name": "python",
   "nbconvert_exporter": "python",
   "pygments_lexer": "ipython3",
   "version": "3.13.5"
  }
 },
 "nbformat": 4,
 "nbformat_minor": 5
}
